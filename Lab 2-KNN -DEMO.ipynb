{
 "cells": [
  {
   "cell_type": "markdown",
   "id": "571f22c1",
   "metadata": {},
   "source": [
    "# LAB 2- Machine learning Use Case-KNN with Iris Dataset \n",
    "# 1. Step-by-Step KNN Implementation:\n",
    "# 2. Import necessary libraries\n",
    "# 3. Load dataset\n",
    "# 4. Split the data into training and test sets\n",
    "# 5. Scale the data\n",
    "# 6. Train the KNN model\n",
    "# 7. Evaluate the model"
   ]
  },
  {
   "cell_type": "code",
   "execution_count": 3,
   "id": "8c11c5d0",
   "metadata": {},
   "outputs": [],
   "source": [
    "import pandas as pd\n",
    "import numpy as np\n"
   ]
  },
  {
   "cell_type": "code",
   "execution_count": 5,
   "id": "f52ba948",
   "metadata": {},
   "outputs": [],
   "source": [
    "#read dataset stored in path Data\n",
    "data = pd.read_csv('Data/Iris_data.csv')"
   ]
  },
  {
   "cell_type": "code",
   "execution_count": 13,
   "id": "2e8e8b3b",
   "metadata": {},
   "outputs": [
    {
     "name": "stdout",
     "output_type": "stream",
     "text": [
      "     sepal_length  sepal_width  petal_length  petal_width         species\n",
      "0             5.1          3.5           1.4          0.2     Iris-setosa\n",
      "1             4.9          3.0           1.4          0.2     Iris-setosa\n",
      "2             4.7          3.2           1.3          0.2     Iris-setosa\n",
      "3             4.6          3.1           1.5          0.2     Iris-setosa\n",
      "4             5.0          3.6           1.4          0.2     Iris-setosa\n",
      "..            ...          ...           ...          ...             ...\n",
      "145           6.7          3.0           5.2          2.3  Iris-virginica\n",
      "146           6.3          2.5           5.0          1.9  Iris-virginica\n",
      "147           6.5          3.0           5.2          2.0  Iris-virginica\n",
      "148           6.2          3.4           5.4          2.3  Iris-virginica\n",
      "149           5.9          3.0           5.1          1.8  Iris-virginica\n",
      "\n",
      "[150 rows x 5 columns]\n"
     ]
    }
   ],
   "source": [
    "#print iris \n",
    "print(data)"
   ]
  },
  {
   "cell_type": "code",
   "execution_count": 9,
   "id": "76180dca",
   "metadata": {},
   "outputs": [
    {
     "data": {
      "text/plain": [
       "species\n",
       "Iris-setosa        50\n",
       "Iris-versicolor    50\n",
       "Iris-virginica     50\n",
       "Name: count, dtype: int64"
      ]
     },
     "execution_count": 9,
     "metadata": {},
     "output_type": "execute_result"
    }
   ],
   "source": [
    "#count species in iris\n",
    "data.species.value_counts()"
   ]
  },
  {
   "cell_type": "code",
   "execution_count": 11,
   "id": "f306cc5b",
   "metadata": {},
   "outputs": [
    {
     "data": {
      "text/plain": [
       "sepal_length    float64\n",
       "sepal_width     float64\n",
       "petal_length    float64\n",
       "petal_width     float64\n",
       "species          object\n",
       "dtype: object"
      ]
     },
     "execution_count": 11,
     "metadata": {},
     "output_type": "execute_result"
    }
   ],
   "source": [
    "#check data type\n",
    "data.dtypes"
   ]
  },
  {
   "cell_type": "code",
   "execution_count": 22,
   "id": "cebd4817",
   "metadata": {},
   "outputs": [],
   "source": [
    "#encode categorical data to numerical data\n",
    "#in this dataset, species is categorical data -hence need to change tu numerical using albel encoder\n",
    "from sklearn.preprocessing import LabelEncoder\n",
    "le=LabelEncoder()\n",
    "data.species=le.fit_transform(data.species)"
   ]
  },
  {
   "cell_type": "code",
   "execution_count": 24,
   "id": "6d281238",
   "metadata": {},
   "outputs": [
    {
     "data": {
      "text/html": [
       "<div>\n",
       "<style scoped>\n",
       "    .dataframe tbody tr th:only-of-type {\n",
       "        vertical-align: middle;\n",
       "    }\n",
       "\n",
       "    .dataframe tbody tr th {\n",
       "        vertical-align: top;\n",
       "    }\n",
       "\n",
       "    .dataframe thead th {\n",
       "        text-align: right;\n",
       "    }\n",
       "</style>\n",
       "<table border=\"1\" class=\"dataframe\">\n",
       "  <thead>\n",
       "    <tr style=\"text-align: right;\">\n",
       "      <th></th>\n",
       "      <th>sepal_length</th>\n",
       "      <th>sepal_width</th>\n",
       "      <th>petal_length</th>\n",
       "      <th>petal_width</th>\n",
       "      <th>species</th>\n",
       "    </tr>\n",
       "  </thead>\n",
       "  <tbody>\n",
       "    <tr>\n",
       "      <th>0</th>\n",
       "      <td>5.1</td>\n",
       "      <td>3.5</td>\n",
       "      <td>1.4</td>\n",
       "      <td>0.2</td>\n",
       "      <td>0</td>\n",
       "    </tr>\n",
       "    <tr>\n",
       "      <th>1</th>\n",
       "      <td>4.9</td>\n",
       "      <td>3.0</td>\n",
       "      <td>1.4</td>\n",
       "      <td>0.2</td>\n",
       "      <td>0</td>\n",
       "    </tr>\n",
       "    <tr>\n",
       "      <th>2</th>\n",
       "      <td>4.7</td>\n",
       "      <td>3.2</td>\n",
       "      <td>1.3</td>\n",
       "      <td>0.2</td>\n",
       "      <td>0</td>\n",
       "    </tr>\n",
       "    <tr>\n",
       "      <th>3</th>\n",
       "      <td>4.6</td>\n",
       "      <td>3.1</td>\n",
       "      <td>1.5</td>\n",
       "      <td>0.2</td>\n",
       "      <td>0</td>\n",
       "    </tr>\n",
       "    <tr>\n",
       "      <th>4</th>\n",
       "      <td>5.0</td>\n",
       "      <td>3.6</td>\n",
       "      <td>1.4</td>\n",
       "      <td>0.2</td>\n",
       "      <td>0</td>\n",
       "    </tr>\n",
       "  </tbody>\n",
       "</table>\n",
       "</div>"
      ],
      "text/plain": [
       "   sepal_length  sepal_width  petal_length  petal_width  species\n",
       "0           5.1          3.5           1.4          0.2        0\n",
       "1           4.9          3.0           1.4          0.2        0\n",
       "2           4.7          3.2           1.3          0.2        0\n",
       "3           4.6          3.1           1.5          0.2        0\n",
       "4           5.0          3.6           1.4          0.2        0"
      ]
     },
     "execution_count": 24,
     "metadata": {},
     "output_type": "execute_result"
    }
   ],
   "source": [
    "# to view the first 5 rows of data in iris\n",
    "#species has changes to numerical value represented by 0,1 and 2 \n",
    "data.head()"
   ]
  },
  {
   "cell_type": "code",
   "execution_count": 26,
   "id": "77f26ef7-99eb-4e80-b9ed-5985ec35f20b",
   "metadata": {},
   "outputs": [
    {
     "data": {
      "text/html": [
       "<div>\n",
       "<style scoped>\n",
       "    .dataframe tbody tr th:only-of-type {\n",
       "        vertical-align: middle;\n",
       "    }\n",
       "\n",
       "    .dataframe tbody tr th {\n",
       "        vertical-align: top;\n",
       "    }\n",
       "\n",
       "    .dataframe thead th {\n",
       "        text-align: right;\n",
       "    }\n",
       "</style>\n",
       "<table border=\"1\" class=\"dataframe\">\n",
       "  <thead>\n",
       "    <tr style=\"text-align: right;\">\n",
       "      <th></th>\n",
       "      <th>sepal_length</th>\n",
       "      <th>sepal_width</th>\n",
       "      <th>petal_length</th>\n",
       "      <th>petal_width</th>\n",
       "      <th>species</th>\n",
       "    </tr>\n",
       "  </thead>\n",
       "  <tbody>\n",
       "    <tr>\n",
       "      <th>145</th>\n",
       "      <td>6.7</td>\n",
       "      <td>3.0</td>\n",
       "      <td>5.2</td>\n",
       "      <td>2.3</td>\n",
       "      <td>2</td>\n",
       "    </tr>\n",
       "    <tr>\n",
       "      <th>146</th>\n",
       "      <td>6.3</td>\n",
       "      <td>2.5</td>\n",
       "      <td>5.0</td>\n",
       "      <td>1.9</td>\n",
       "      <td>2</td>\n",
       "    </tr>\n",
       "    <tr>\n",
       "      <th>147</th>\n",
       "      <td>6.5</td>\n",
       "      <td>3.0</td>\n",
       "      <td>5.2</td>\n",
       "      <td>2.0</td>\n",
       "      <td>2</td>\n",
       "    </tr>\n",
       "    <tr>\n",
       "      <th>148</th>\n",
       "      <td>6.2</td>\n",
       "      <td>3.4</td>\n",
       "      <td>5.4</td>\n",
       "      <td>2.3</td>\n",
       "      <td>2</td>\n",
       "    </tr>\n",
       "    <tr>\n",
       "      <th>149</th>\n",
       "      <td>5.9</td>\n",
       "      <td>3.0</td>\n",
       "      <td>5.1</td>\n",
       "      <td>1.8</td>\n",
       "      <td>2</td>\n",
       "    </tr>\n",
       "  </tbody>\n",
       "</table>\n",
       "</div>"
      ],
      "text/plain": [
       "     sepal_length  sepal_width  petal_length  petal_width  species\n",
       "145           6.7          3.0           5.2          2.3        2\n",
       "146           6.3          2.5           5.0          1.9        2\n",
       "147           6.5          3.0           5.2          2.0        2\n",
       "148           6.2          3.4           5.4          2.3        2\n",
       "149           5.9          3.0           5.1          1.8        2"
      ]
     },
     "execution_count": 26,
     "metadata": {},
     "output_type": "execute_result"
    }
   ],
   "source": [
    "#to view the last 5 rows\n",
    "data.tail()"
   ]
  },
  {
   "cell_type": "markdown",
   "id": "e71beed9",
   "metadata": {},
   "source": [
    "# SPLIT BETWEEN TARGET AND FEATURE COLUMNS"
   ]
  },
  {
   "cell_type": "code",
   "execution_count": 30,
   "id": "6b03f98a",
   "metadata": {},
   "outputs": [],
   "source": [
    "#features list\n",
    "#species will be the target hence we need to drop it from features \n",
    "X=data.drop('species', axis=1)\n",
    "#target-assigned teh target to y \n",
    "y=data.species"
   ]
  },
  {
   "cell_type": "code",
   "execution_count": 32,
   "id": "c13bb7e9",
   "metadata": {},
   "outputs": [
    {
     "data": {
      "text/html": [
       "<div>\n",
       "<style scoped>\n",
       "    .dataframe tbody tr th:only-of-type {\n",
       "        vertical-align: middle;\n",
       "    }\n",
       "\n",
       "    .dataframe tbody tr th {\n",
       "        vertical-align: top;\n",
       "    }\n",
       "\n",
       "    .dataframe thead th {\n",
       "        text-align: right;\n",
       "    }\n",
       "</style>\n",
       "<table border=\"1\" class=\"dataframe\">\n",
       "  <thead>\n",
       "    <tr style=\"text-align: right;\">\n",
       "      <th></th>\n",
       "      <th>sepal_length</th>\n",
       "      <th>sepal_width</th>\n",
       "      <th>petal_length</th>\n",
       "      <th>petal_width</th>\n",
       "    </tr>\n",
       "  </thead>\n",
       "  <tbody>\n",
       "    <tr>\n",
       "      <th>0</th>\n",
       "      <td>5.1</td>\n",
       "      <td>3.5</td>\n",
       "      <td>1.4</td>\n",
       "      <td>0.2</td>\n",
       "    </tr>\n",
       "    <tr>\n",
       "      <th>1</th>\n",
       "      <td>4.9</td>\n",
       "      <td>3.0</td>\n",
       "      <td>1.4</td>\n",
       "      <td>0.2</td>\n",
       "    </tr>\n",
       "    <tr>\n",
       "      <th>2</th>\n",
       "      <td>4.7</td>\n",
       "      <td>3.2</td>\n",
       "      <td>1.3</td>\n",
       "      <td>0.2</td>\n",
       "    </tr>\n",
       "    <tr>\n",
       "      <th>3</th>\n",
       "      <td>4.6</td>\n",
       "      <td>3.1</td>\n",
       "      <td>1.5</td>\n",
       "      <td>0.2</td>\n",
       "    </tr>\n",
       "    <tr>\n",
       "      <th>4</th>\n",
       "      <td>5.0</td>\n",
       "      <td>3.6</td>\n",
       "      <td>1.4</td>\n",
       "      <td>0.2</td>\n",
       "    </tr>\n",
       "    <tr>\n",
       "      <th>...</th>\n",
       "      <td>...</td>\n",
       "      <td>...</td>\n",
       "      <td>...</td>\n",
       "      <td>...</td>\n",
       "    </tr>\n",
       "    <tr>\n",
       "      <th>145</th>\n",
       "      <td>6.7</td>\n",
       "      <td>3.0</td>\n",
       "      <td>5.2</td>\n",
       "      <td>2.3</td>\n",
       "    </tr>\n",
       "    <tr>\n",
       "      <th>146</th>\n",
       "      <td>6.3</td>\n",
       "      <td>2.5</td>\n",
       "      <td>5.0</td>\n",
       "      <td>1.9</td>\n",
       "    </tr>\n",
       "    <tr>\n",
       "      <th>147</th>\n",
       "      <td>6.5</td>\n",
       "      <td>3.0</td>\n",
       "      <td>5.2</td>\n",
       "      <td>2.0</td>\n",
       "    </tr>\n",
       "    <tr>\n",
       "      <th>148</th>\n",
       "      <td>6.2</td>\n",
       "      <td>3.4</td>\n",
       "      <td>5.4</td>\n",
       "      <td>2.3</td>\n",
       "    </tr>\n",
       "    <tr>\n",
       "      <th>149</th>\n",
       "      <td>5.9</td>\n",
       "      <td>3.0</td>\n",
       "      <td>5.1</td>\n",
       "      <td>1.8</td>\n",
       "    </tr>\n",
       "  </tbody>\n",
       "</table>\n",
       "<p>150 rows × 4 columns</p>\n",
       "</div>"
      ],
      "text/plain": [
       "     sepal_length  sepal_width  petal_length  petal_width\n",
       "0             5.1          3.5           1.4          0.2\n",
       "1             4.9          3.0           1.4          0.2\n",
       "2             4.7          3.2           1.3          0.2\n",
       "3             4.6          3.1           1.5          0.2\n",
       "4             5.0          3.6           1.4          0.2\n",
       "..            ...          ...           ...          ...\n",
       "145           6.7          3.0           5.2          2.3\n",
       "146           6.3          2.5           5.0          1.9\n",
       "147           6.5          3.0           5.2          2.0\n",
       "148           6.2          3.4           5.4          2.3\n",
       "149           5.9          3.0           5.1          1.8\n",
       "\n",
       "[150 rows x 4 columns]"
      ]
     },
     "execution_count": 32,
     "metadata": {},
     "output_type": "execute_result"
    }
   ],
   "source": [
    "#print X after drop species \n",
    "X"
   ]
  },
  {
   "cell_type": "code",
   "execution_count": 36,
   "id": "6defadf9",
   "metadata": {},
   "outputs": [
    {
     "data": {
      "text/plain": [
       "0      0\n",
       "1      0\n",
       "2      0\n",
       "3      0\n",
       "4      0\n",
       "      ..\n",
       "145    2\n",
       "146    2\n",
       "147    2\n",
       "148    2\n",
       "149    2\n",
       "Name: species, Length: 150, dtype: int32"
      ]
     },
     "execution_count": 36,
     "metadata": {},
     "output_type": "execute_result"
    }
   ],
   "source": [
    "#print y after set as target \n",
    "y"
   ]
  },
  {
   "cell_type": "markdown",
   "id": "0e1154fa",
   "metadata": {},
   "source": [
    "# Split the data into training and test sets\n",
    "At the begining you will split your data into a train and a test set. So you will have X_train and y_train for the features and target values you will use during the training of your model. And you will have X_test and y_test for the features and target values you will use for the final evaluation of your model.\n",
    "\n",
    "X is a matrix of the features values, each column being one feature, and being known values.\n",
    "\n",
    "Each column of X is an independant variable.\n",
    "\n",
    "y is a vector of the target values, being the values you want to try to predict.\n",
    "\n",
    "y has only one column and is the dependant/target variable.\n",
    "\n",
    "A row in X anf y is one data sample."
   ]
  },
  {
   "cell_type": "code",
   "execution_count": 40,
   "id": "780b73bf-63ab-4572-afff-829f3c10a8ec",
   "metadata": {},
   "outputs": [],
   "source": [
    "#splitting the dataset into trainning and test set\n",
    "from sklearn.model_selection import train_test_split\n",
    "X_train, X_test, y_train, y_test = train_test_split(X, y, test_size=0.30, random_state=0)#start from 0 -random_state=0 , we get the same train and test sets across different executions."
   ]
  },
  {
   "cell_type": "code",
   "execution_count": 42,
   "id": "58626466-de8f-486b-8ad5-f724f503db82",
   "metadata": {},
   "outputs": [
    {
     "data": {
      "text/plain": [
       "(105, 4)"
      ]
     },
     "execution_count": 42,
     "metadata": {},
     "output_type": "execute_result"
    }
   ],
   "source": [
    "X_train.shape"
   ]
  },
  {
   "cell_type": "code",
   "execution_count": 44,
   "id": "dff6044b-262f-449a-b463-c6a8bd779183",
   "metadata": {},
   "outputs": [
    {
     "data": {
      "text/html": [
       "<div>\n",
       "<style scoped>\n",
       "    .dataframe tbody tr th:only-of-type {\n",
       "        vertical-align: middle;\n",
       "    }\n",
       "\n",
       "    .dataframe tbody tr th {\n",
       "        vertical-align: top;\n",
       "    }\n",
       "\n",
       "    .dataframe thead th {\n",
       "        text-align: right;\n",
       "    }\n",
       "</style>\n",
       "<table border=\"1\" class=\"dataframe\">\n",
       "  <thead>\n",
       "    <tr style=\"text-align: right;\">\n",
       "      <th></th>\n",
       "      <th>sepal_length</th>\n",
       "      <th>sepal_width</th>\n",
       "      <th>petal_length</th>\n",
       "      <th>petal_width</th>\n",
       "    </tr>\n",
       "  </thead>\n",
       "  <tbody>\n",
       "    <tr>\n",
       "      <th>60</th>\n",
       "      <td>5.0</td>\n",
       "      <td>2.0</td>\n",
       "      <td>3.5</td>\n",
       "      <td>1.0</td>\n",
       "    </tr>\n",
       "    <tr>\n",
       "      <th>116</th>\n",
       "      <td>6.5</td>\n",
       "      <td>3.0</td>\n",
       "      <td>5.5</td>\n",
       "      <td>1.8</td>\n",
       "    </tr>\n",
       "    <tr>\n",
       "      <th>144</th>\n",
       "      <td>6.7</td>\n",
       "      <td>3.3</td>\n",
       "      <td>5.7</td>\n",
       "      <td>2.5</td>\n",
       "    </tr>\n",
       "    <tr>\n",
       "      <th>119</th>\n",
       "      <td>6.0</td>\n",
       "      <td>2.2</td>\n",
       "      <td>5.0</td>\n",
       "      <td>1.5</td>\n",
       "    </tr>\n",
       "    <tr>\n",
       "      <th>108</th>\n",
       "      <td>6.7</td>\n",
       "      <td>2.5</td>\n",
       "      <td>5.8</td>\n",
       "      <td>1.8</td>\n",
       "    </tr>\n",
       "    <tr>\n",
       "      <th>...</th>\n",
       "      <td>...</td>\n",
       "      <td>...</td>\n",
       "      <td>...</td>\n",
       "      <td>...</td>\n",
       "    </tr>\n",
       "    <tr>\n",
       "      <th>9</th>\n",
       "      <td>4.9</td>\n",
       "      <td>3.1</td>\n",
       "      <td>1.5</td>\n",
       "      <td>0.1</td>\n",
       "    </tr>\n",
       "    <tr>\n",
       "      <th>103</th>\n",
       "      <td>6.3</td>\n",
       "      <td>2.9</td>\n",
       "      <td>5.6</td>\n",
       "      <td>1.8</td>\n",
       "    </tr>\n",
       "    <tr>\n",
       "      <th>67</th>\n",
       "      <td>5.8</td>\n",
       "      <td>2.7</td>\n",
       "      <td>4.1</td>\n",
       "      <td>1.0</td>\n",
       "    </tr>\n",
       "    <tr>\n",
       "      <th>117</th>\n",
       "      <td>7.7</td>\n",
       "      <td>3.8</td>\n",
       "      <td>6.7</td>\n",
       "      <td>2.2</td>\n",
       "    </tr>\n",
       "    <tr>\n",
       "      <th>47</th>\n",
       "      <td>4.6</td>\n",
       "      <td>3.2</td>\n",
       "      <td>1.4</td>\n",
       "      <td>0.2</td>\n",
       "    </tr>\n",
       "  </tbody>\n",
       "</table>\n",
       "<p>105 rows × 4 columns</p>\n",
       "</div>"
      ],
      "text/plain": [
       "     sepal_length  sepal_width  petal_length  petal_width\n",
       "60            5.0          2.0           3.5          1.0\n",
       "116           6.5          3.0           5.5          1.8\n",
       "144           6.7          3.3           5.7          2.5\n",
       "119           6.0          2.2           5.0          1.5\n",
       "108           6.7          2.5           5.8          1.8\n",
       "..            ...          ...           ...          ...\n",
       "9             4.9          3.1           1.5          0.1\n",
       "103           6.3          2.9           5.6          1.8\n",
       "67            5.8          2.7           4.1          1.0\n",
       "117           7.7          3.8           6.7          2.2\n",
       "47            4.6          3.2           1.4          0.2\n",
       "\n",
       "[105 rows x 4 columns]"
      ]
     },
     "execution_count": 44,
     "metadata": {},
     "output_type": "execute_result"
    }
   ],
   "source": [
    "X_train"
   ]
  },
  {
   "cell_type": "code",
   "execution_count": 48,
   "id": "fe9b5f5c-5893-40a9-8600-80780ae2a75b",
   "metadata": {},
   "outputs": [
    {
     "data": {
      "text/plain": [
       "(45, 4)"
      ]
     },
     "execution_count": 48,
     "metadata": {},
     "output_type": "execute_result"
    }
   ],
   "source": [
    "X_test.shape"
   ]
  },
  {
   "cell_type": "code",
   "execution_count": 50,
   "id": "ce6e8151-915e-4600-9d9d-626bea442b85",
   "metadata": {},
   "outputs": [
    {
     "data": {
      "text/plain": [
       "60     1\n",
       "116    2\n",
       "144    2\n",
       "119    2\n",
       "108    2\n",
       "      ..\n",
       "9      0\n",
       "103    2\n",
       "67     1\n",
       "117    2\n",
       "47     0\n",
       "Name: species, Length: 105, dtype: int32"
      ]
     },
     "execution_count": 50,
     "metadata": {},
     "output_type": "execute_result"
    }
   ],
   "source": [
    "y_train"
   ]
  },
  {
   "cell_type": "code",
   "execution_count": 52,
   "id": "750e36e2-f2a3-43a9-aa56-8c7b431c0241",
   "metadata": {},
   "outputs": [
    {
     "data": {
      "text/plain": [
       "(105,)"
      ]
     },
     "execution_count": 52,
     "metadata": {},
     "output_type": "execute_result"
    }
   ],
   "source": [
    "y_train.shape"
   ]
  },
  {
   "cell_type": "code",
   "execution_count": 54,
   "id": "fad5cadd-49f6-4230-ab10-22da2fce9769",
   "metadata": {
    "scrolled": true
   },
   "outputs": [
    {
     "data": {
      "text/plain": [
       "114    2\n",
       "62     1\n",
       "33     0\n",
       "107    2\n",
       "7      0\n",
       "100    2\n",
       "40     0\n",
       "86     1\n",
       "76     1\n",
       "71     1\n",
       "134    2\n",
       "51     1\n",
       "73     1\n",
       "54     1\n",
       "63     1\n",
       "37     0\n",
       "78     1\n",
       "90     1\n",
       "45     0\n",
       "16     0\n",
       "121    2\n",
       "66     1\n",
       "24     0\n",
       "8      0\n",
       "126    2\n",
       "22     0\n",
       "44     0\n",
       "97     1\n",
       "93     1\n",
       "26     0\n",
       "137    2\n",
       "84     1\n",
       "27     0\n",
       "127    2\n",
       "132    2\n",
       "59     1\n",
       "18     0\n",
       "83     1\n",
       "61     1\n",
       "92     1\n",
       "112    2\n",
       "2      0\n",
       "141    2\n",
       "43     0\n",
       "10     0\n",
       "Name: species, dtype: int32"
      ]
     },
     "execution_count": 54,
     "metadata": {},
     "output_type": "execute_result"
    }
   ],
   "source": [
    "y_test"
   ]
  },
  {
   "cell_type": "markdown",
   "id": "062acd6e",
   "metadata": {},
   "source": [
    "# STANDARDIZATION/SCALING\n",
    "# DISTANCE-BASED Algorithm is sensitive to data distribution. It is necessary to scale the data. Let's try scaling with MinMaxScaler()"
   ]
  },
  {
   "cell_type": "code",
   "execution_count": 70,
   "id": "e0b6807f",
   "metadata": {
    "scrolled": true
   },
   "outputs": [
    {
     "data": {
      "text/plain": [
       "array([[0.19444444, 0.        , 0.4137931 , 0.375     ],\n",
       "       [0.61111111, 0.41666667, 0.75862069, 0.70833333],\n",
       "       [0.66666667, 0.54166667, 0.79310345, 1.        ],\n",
       "       [0.47222222, 0.08333333, 0.67241379, 0.58333333],\n",
       "       [0.66666667, 0.20833333, 0.81034483, 0.70833333],\n",
       "       [0.36111111, 0.20833333, 0.48275862, 0.41666667],\n",
       "       [0.94444444, 0.41666667, 0.86206897, 0.91666667],\n",
       "       [0.55555556, 0.54166667, 0.62068966, 0.625     ],\n",
       "       [0.33333333, 0.16666667, 0.46551724, 0.41666667],\n",
       "       [0.55555556, 0.29166667, 0.65517241, 0.70833333],\n",
       "       [0.55555556, 0.33333333, 0.68965517, 0.58333333],\n",
       "       [0.16666667, 0.20833333, 0.5862069 , 0.66666667],\n",
       "       [0.55555556, 0.20833333, 0.67241379, 0.75      ],\n",
       "       [0.75      , 0.5       , 0.62068966, 0.54166667],\n",
       "       [0.61111111, 0.41666667, 0.70689655, 0.79166667],\n",
       "       [0.47222222, 0.58333333, 0.5862069 , 0.625     ],\n",
       "       [0.13888889, 0.45833333, 0.0862069 , 0.04166667],\n",
       "       [0.41666667, 0.29166667, 0.68965517, 0.75      ],\n",
       "       [0.36111111, 0.29166667, 0.53448276, 0.5       ],\n",
       "       [0.36111111, 0.375     , 0.43103448, 0.5       ],\n",
       "       [0.33333333, 0.20833333, 0.5       , 0.5       ],\n",
       "       [0.5       , 0.41666667, 0.60344828, 0.54166667],\n",
       "       [0.80555556, 0.5       , 0.84482759, 0.70833333],\n",
       "       [0.27777778, 0.70833333, 0.06896552, 0.04166667],\n",
       "       [0.        , 0.41666667, 0.        , 0.        ],\n",
       "       [0.58333333, 0.29166667, 0.72413793, 0.75      ],\n",
       "       [0.38888889, 0.41666667, 0.53448276, 0.45833333],\n",
       "       [0.30555556, 0.58333333, 0.10344828, 0.04166667],\n",
       "       [0.38888889, 1.        , 0.06896552, 0.125     ],\n",
       "       [0.72222222, 0.45833333, 0.65517241, 0.58333333],\n",
       "       [0.08333333, 0.45833333, 0.06896552, 0.04166667],\n",
       "       [0.44444444, 0.41666667, 0.68965517, 0.70833333],\n",
       "       [0.22222222, 0.20833333, 0.32758621, 0.41666667],\n",
       "       [0.08333333, 0.58333333, 0.05172414, 0.08333333],\n",
       "       [0.52777778, 0.08333333, 0.5862069 , 0.58333333],\n",
       "       [0.80555556, 0.66666667, 0.86206897, 1.        ],\n",
       "       [0.38888889, 0.375     , 0.53448276, 0.5       ],\n",
       "       [0.13888889, 0.41666667, 0.05172414, 0.        ],\n",
       "       [0.77777778, 0.41666667, 0.82758621, 0.83333333],\n",
       "       [0.72222222, 0.5       , 0.79310345, 0.91666667],\n",
       "       [0.61111111, 0.41666667, 0.81034483, 0.875     ],\n",
       "       [0.58333333, 0.33333333, 0.77586207, 0.83333333],\n",
       "       [0.22222222, 0.75      , 0.0862069 , 0.04166667],\n",
       "       [0.13888889, 0.58333333, 0.0862069 , 0.04166667],\n",
       "       [0.61111111, 0.5       , 0.68965517, 0.79166667],\n",
       "       [0.66666667, 0.54166667, 0.79310345, 0.83333333],\n",
       "       [0.05555556, 0.125     , 0.03448276, 0.08333333],\n",
       "       [0.52777778, 0.58333333, 0.74137931, 0.91666667],\n",
       "       [0.16666667, 0.41666667, 0.05172414, 0.04166667],\n",
       "       [0.38888889, 0.20833333, 0.67241379, 0.79166667],\n",
       "       [0.72222222, 0.45833333, 0.74137931, 0.83333333],\n",
       "       [0.02777778, 0.5       , 0.03448276, 0.04166667],\n",
       "       [0.19444444, 0.66666667, 0.05172414, 0.04166667],\n",
       "       [0.80555556, 0.41666667, 0.81034483, 0.625     ],\n",
       "       [0.22222222, 0.625     , 0.05172414, 0.08333333],\n",
       "       [0.02777778, 0.41666667, 0.03448276, 0.04166667],\n",
       "       [0.30555556, 0.79166667, 0.10344828, 0.125     ],\n",
       "       [0.33333333, 0.125     , 0.5       , 0.5       ],\n",
       "       [0.69444444, 0.5       , 0.82758621, 0.91666667],\n",
       "       [0.91666667, 0.41666667, 0.94827586, 0.83333333],\n",
       "       [0.22222222, 0.625     , 0.05172414, 0.04166667],\n",
       "       [0.16666667, 0.45833333, 0.06896552, 0.        ],\n",
       "       [0.25      , 0.58333333, 0.05172414, 0.04166667],\n",
       "       [0.38888889, 0.33333333, 0.5862069 , 0.5       ],\n",
       "       [0.63888889, 0.41666667, 0.56896552, 0.54166667],\n",
       "       [0.19444444, 0.5       , 0.01724138, 0.04166667],\n",
       "       [0.22222222, 0.54166667, 0.10344828, 0.16666667],\n",
       "       [0.58333333, 0.375     , 0.55172414, 0.5       ],\n",
       "       [0.30555556, 0.58333333, 0.06896552, 0.125     ],\n",
       "       [0.94444444, 0.25      , 1.        , 0.91666667],\n",
       "       [0.16666667, 0.16666667, 0.37931034, 0.375     ],\n",
       "       [1.        , 0.75      , 0.9137931 , 0.79166667],\n",
       "       [0.66666667, 0.45833333, 0.56896552, 0.54166667],\n",
       "       [0.25      , 0.875     , 0.06896552, 0.        ],\n",
       "       [0.47222222, 0.41666667, 0.63793103, 0.70833333],\n",
       "       [0.41666667, 0.83333333, 0.01724138, 0.04166667],\n",
       "       [0.94444444, 0.33333333, 0.96551724, 0.79166667],\n",
       "       [0.22222222, 0.75      , 0.06896552, 0.08333333],\n",
       "       [0.11111111, 0.5       , 0.0862069 , 0.04166667],\n",
       "       [0.86111111, 0.33333333, 0.86206897, 0.75      ],\n",
       "       [0.19444444, 0.54166667, 0.05172414, 0.04166667],\n",
       "       [0.55555556, 0.58333333, 0.77586207, 0.95833333],\n",
       "       [0.38888889, 0.33333333, 0.51724138, 0.5       ],\n",
       "       [0.41666667, 0.29166667, 0.48275862, 0.45833333],\n",
       "       [0.38888889, 0.25      , 0.4137931 , 0.375     ],\n",
       "       [0.58333333, 0.5       , 0.72413793, 0.91666667],\n",
       "       [0.66666667, 0.41666667, 0.70689655, 0.91666667],\n",
       "       [0.55555556, 0.20833333, 0.65517241, 0.58333333],\n",
       "       [0.66666667, 0.41666667, 0.67241379, 0.66666667],\n",
       "       [0.19444444, 0.41666667, 0.0862069 , 0.04166667],\n",
       "       [0.33333333, 0.16666667, 0.44827586, 0.375     ],\n",
       "       [0.66666667, 0.45833333, 0.77586207, 0.95833333],\n",
       "       [0.41666667, 0.29166667, 0.68965517, 0.75      ],\n",
       "       [0.22222222, 0.58333333, 0.06896552, 0.04166667],\n",
       "       [0.63888889, 0.375     , 0.60344828, 0.5       ],\n",
       "       [0.36111111, 0.41666667, 0.51724138, 0.5       ],\n",
       "       [0.44444444, 0.5       , 0.63793103, 0.70833333],\n",
       "       [0.55555556, 0.125     , 0.56896552, 0.5       ],\n",
       "       [0.33333333, 0.625     , 0.03448276, 0.04166667],\n",
       "       [0.22222222, 0.70833333, 0.06896552, 0.125     ],\n",
       "       [0.16666667, 0.45833333, 0.06896552, 0.        ],\n",
       "       [0.55555556, 0.375     , 0.77586207, 0.70833333],\n",
       "       [0.41666667, 0.29166667, 0.51724138, 0.375     ],\n",
       "       [0.94444444, 0.75      , 0.96551724, 0.875     ],\n",
       "       [0.08333333, 0.5       , 0.05172414, 0.04166667]])"
      ]
     },
     "execution_count": 70,
     "metadata": {},
     "output_type": "execute_result"
    }
   ],
   "source": [
    "#MinMaxScaller will return the data between 0-1\n",
    "#Transform features by scaling each feature to a given range.\n",
    "#This estimator scales and translates each feature individually such that it is in the given range on the training set,\n",
    "#e.g. between zero and one.\n",
    "\n",
    "#The fit(data) method is used to compute the mean and std dev for a given feature so that it can be used further for scaling.\n",
    "#The transform(data) method is used to perform scaling using mean and std dev calculated using the .fit() method.\n",
    "#The fit_transform() method does both fit and transform.\n",
    "\n",
    "# Fit the scaler on the training data and transform it-for KNN only scale the features(X_train,X_test) not the label/target(y_train,y_test)-label in iris dataset is categorical 0,1,2-no need scaling\n",
    "# Apply the same transformation to the test data (without fitting again!)-test data is used to test the model -it is unseen data-do not fit the scaler on the test data to avoid data leakage.\n",
    "\n",
    "from sklearn.preprocessing import MinMaxScaler\n",
    "scaler=MinMaxScaler()\n",
    "X_scale_train=scaler.fit_transform(X_train)\n",
    "X_scale_train"
   ]
  },
  {
   "cell_type": "code",
   "execution_count": 74,
   "id": "ea789c1d-8d25-4f9b-89e6-a492422a50e1",
   "metadata": {
    "scrolled": true
   },
   "outputs": [
    {
     "data": {
      "text/plain": [
       "array([[0.48275862, 0.3       , 0.77358491, 0.95833333],\n",
       "       [0.55172414, 0.        , 0.56603774, 0.375     ],\n",
       "       [0.37931034, 1.        , 0.0754717 , 0.04166667],\n",
       "       [1.        , 0.35      , 1.        , 0.70833333],\n",
       "       [0.20689655, 0.6       , 0.09433962, 0.04166667],\n",
       "       [0.65517241, 0.55      , 0.94339623, 1.        ],\n",
       "       [0.20689655, 0.65      , 0.05660377, 0.08333333],\n",
       "       [0.79310345, 0.45      , 0.69811321, 0.58333333],\n",
       "       [0.82758621, 0.3       , 0.71698113, 0.54166667],\n",
       "       [0.5862069 , 0.3       , 0.56603774, 0.5       ],\n",
       "       [0.5862069 , 0.2       , 0.86792453, 0.54166667],\n",
       "       [0.68965517, 0.5       , 0.66037736, 0.58333333],\n",
       "       [0.5862069 , 0.3       , 0.69811321, 0.45833333],\n",
       "       [0.72413793, 0.3       , 0.67924528, 0.58333333],\n",
       "       [0.5862069 , 0.35      , 0.69811321, 0.54166667],\n",
       "       [0.17241379, 0.45      , 0.09433962, 0.        ],\n",
       "       [0.55172414, 0.35      , 0.66037736, 0.58333333],\n",
       "       [0.37931034, 0.2       , 0.64150943, 0.45833333],\n",
       "       [0.13793103, 0.4       , 0.0754717 , 0.08333333],\n",
       "       [0.34482759, 0.85      , 0.05660377, 0.125     ],\n",
       "       [0.4137931 , 0.3       , 0.73584906, 0.79166667],\n",
       "       [0.4137931 , 0.4       , 0.66037736, 0.58333333],\n",
       "       [0.13793103, 0.6       , 0.16981132, 0.04166667],\n",
       "       [0.        , 0.35      , 0.0754717 , 0.04166667],\n",
       "       [0.62068966, 0.3       , 0.71698113, 0.70833333],\n",
       "       [0.06896552, 0.7       , 0.        , 0.04166667],\n",
       "       [0.24137931, 0.8       , 0.16981132, 0.125     ],\n",
       "       [0.62068966, 0.35      , 0.62264151, 0.5       ],\n",
       "       [0.20689655, 0.05      , 0.43396226, 0.375     ],\n",
       "       [0.20689655, 0.6       , 0.11320755, 0.125     ],\n",
       "       [0.68965517, 0.45      , 0.8490566 , 0.70833333],\n",
       "       [0.34482759, 0.4       , 0.66037736, 0.58333333],\n",
       "       [0.27586207, 0.65      , 0.09433962, 0.04166667],\n",
       "       [0.5862069 , 0.4       , 0.73584906, 0.70833333],\n",
       "       [0.68965517, 0.3       , 0.86792453, 0.875     ],\n",
       "       [0.27586207, 0.25      , 0.54716981, 0.54166667],\n",
       "       [0.44827586, 0.8       , 0.13207547, 0.08333333],\n",
       "       [0.55172414, 0.25      , 0.77358491, 0.625     ],\n",
       "       [0.51724138, 0.4       , 0.60377358, 0.58333333],\n",
       "       [0.48275862, 0.2       , 0.56603774, 0.45833333],\n",
       "       [0.82758621, 0.4       , 0.8490566 , 0.83333333],\n",
       "       [0.10344828, 0.5       , 0.05660377, 0.04166667],\n",
       "       [0.86206897, 0.45      , 0.77358491, 0.91666667],\n",
       "       [0.20689655, 0.65      , 0.11320755, 0.20833333],\n",
       "       [0.34482759, 0.75      , 0.09433962, 0.04166667]])"
      ]
     },
     "execution_count": 74,
     "metadata": {},
     "output_type": "execute_result"
    }
   ],
   "source": [
    "# Apply the same transformation to the test data (without fitting again!)-test data is used to test the model -it is unseen data-do not fit the scaler on the test data to avoid data leakage.\n",
    "from sklearn.preprocessing import MinMaxScaler\n",
    "scaler=MinMaxScaler()\n",
    "X_scale_test=scaler.fit_transform(X_test)\n",
    "X_scale_test"
   ]
  },
  {
   "cell_type": "markdown",
   "id": "9ca4c4e8",
   "metadata": {},
   "source": [
    "# Fitting and Evaluating the Model\n",
    "# KNN CLASSIFIER\n"
   ]
  },
  {
   "cell_type": "code",
   "execution_count": 86,
   "id": "117d0887",
   "metadata": {},
   "outputs": [],
   "source": [
    "#The first line creates an instance of the KNeighborsClassifier class with the parameter n_neighbors set to 3.\n",
    "# This means that the classifier will consider the 3 nearest neighbors when making predictions.\n",
    "# The second line fits the classifier to the training data X_scale_train and y_train.\n",
    "#This means that the classifier will learn from the training data(scale) and be able to make predictions on new data.\n",
    "from sklearn.neighbors import KNeighborsClassifier\n",
    "knn = KNeighborsClassifier(n_neighbors=3)\n",
    "knn = knn.fit(X_scale_train,y_train)\n",
    "\n"
   ]
  },
  {
   "cell_type": "code",
   "execution_count": 88,
   "id": "d6c0f6a4",
   "metadata": {},
   "outputs": [
    {
     "data": {
      "text/plain": [
       "array([2, 1, 0, 2, 0, 2, 0, 1, 1, 1, 2, 1, 1, 1, 1, 0, 1, 1, 0, 0, 2, 1,\n",
       "       0, 0, 2, 0, 0, 1, 1, 0, 2, 1, 0, 2, 2, 1, 0, 2, 1, 1, 2, 0, 2, 0,\n",
       "       0])"
      ]
     },
     "execution_count": 88,
     "metadata": {},
     "output_type": "execute_result"
    }
   ],
   "source": [
    "#The knn object is assumed to have been previously defined and trained on a training dataset.\n",
    "# The predict method of the knn object is then called with the X_test (scale) dataset as input.\n",
    "# This returns an array of predicted class labels for each sample in X_test, which is assigned to the variable y_pred.\n",
    "# Overall, this code is used to evaluate the performance of the KNN classifier on a test dataset by comparing the predicted labels to the true labels.\n",
    "y_pred = knn.predict(X_scale_test)\n",
    "y_pred "
   ]
  },
  {
   "cell_type": "markdown",
   "id": "20f612d8",
   "metadata": {},
   "source": [
    "# EVALUATION"
   ]
  },
  {
   "cell_type": "code",
   "execution_count": 95,
   "id": "82593ff7",
   "metadata": {},
   "outputs": [
    {
     "data": {
      "text/plain": [
       "0.9777777777777777"
      ]
     },
     "execution_count": 95,
     "metadata": {},
     "output_type": "execute_result"
    }
   ],
   "source": [
    "from sklearn.metrics import classification_report\n",
    "#calculates the accuracy of a machine learning model by comparing the predicted values \n",
    "#(stored in y_pred) with the actual values (stored in y_test).\n",
    "from sklearn.metrics import accuracy_score\n",
    "accuracy_score(y_test,y_pred)"
   ]
  },
  {
   "cell_type": "code",
   "execution_count": 93,
   "id": "70d1dc77",
   "metadata": {},
   "outputs": [
    {
     "name": "stdout",
     "output_type": "stream",
     "text": [
      "              precision    recall  f1-score   support\n",
      "\n",
      "           0       1.00      1.00      1.00        16\n",
      "           1       1.00      0.94      0.97        18\n",
      "           2       0.92      1.00      0.96        11\n",
      "\n",
      "    accuracy                           0.98        45\n",
      "   macro avg       0.97      0.98      0.98        45\n",
      "weighted avg       0.98      0.98      0.98        45\n",
      "\n"
     ]
    }
   ],
   "source": [
    "#A classification report is used to measure the quality of predictions from a classification algorithm. \n",
    "#It details how many predictions are true and how many are false\n",
    "\n",
    "from sklearn.metrics import classification_report\n",
    "report = classification_report(y_test, y_pred)\n",
    "print(report)"
   ]
  },
  {
   "cell_type": "code",
   "execution_count": null,
   "id": "ae0a87b2",
   "metadata": {},
   "outputs": [],
   "source": []
  }
 ],
 "metadata": {
  "kernelspec": {
   "display_name": "Python 3 (ipykernel)",
   "language": "python",
   "name": "python3"
  },
  "language_info": {
   "codemirror_mode": {
    "name": "ipython",
    "version": 3
   },
   "file_extension": ".py",
   "mimetype": "text/x-python",
   "name": "python",
   "nbconvert_exporter": "python",
   "pygments_lexer": "ipython3",
   "version": "3.12.4"
  }
 },
 "nbformat": 4,
 "nbformat_minor": 5
}
